{
 "cells": [
  {
   "cell_type": "markdown",
   "metadata": {},
   "source": [
    "### Ejercicio N°1\n",
    "\n",
    "Se quiere sabe cuantas localidades pertenecen a cada continente.\n",
    "\n",
    "> La respuesta debe ser un diccionario donde los nombres de los continentes sean las claves y el valor sea la cantidad de ciudades que corresponden a cada uno."
   ]
  },
  {
   "cell_type": "code",
   "execution_count": 7,
   "metadata": {},
   "outputs": [
    {
     "ename": "ModuleNotFoundError",
     "evalue": "No module named 'pandas'",
     "output_type": "error",
     "traceback": [
      "\u001b[1;31m---------------------------------------------------------------------------\u001b[0m",
      "\u001b[1;31mModuleNotFoundError\u001b[0m                       Traceback (most recent call last)",
      "Cell \u001b[1;32mIn[7], line 1\u001b[0m\n\u001b[1;32m----> 1\u001b[0m \u001b[38;5;28;01mimport\u001b[39;00m \u001b[38;5;21;01mpandas\u001b[39;00m \u001b[38;5;28;01mas\u001b[39;00m \u001b[38;5;21;01mpd\u001b[39;00m\u001b[38;5;241m,\u001b[39m \u001b[38;5;21;01mos\u001b[39;00m\n\u001b[0;32m      3\u001b[0m db_path \u001b[38;5;241m=\u001b[39m \u001b[38;5;124m\"\u001b[39m\u001b[38;5;124mdata.csv\u001b[39m\u001b[38;5;124m\"\u001b[39m\n\u001b[0;32m      5\u001b[0m \u001b[38;5;28;01mif\u001b[39;00m \u001b[38;5;129;01mnot\u001b[39;00m os\u001b[38;5;241m.\u001b[39mpath\u001b[38;5;241m.\u001b[39mexists(db_path):\n",
      "\u001b[1;31mModuleNotFoundError\u001b[0m: No module named 'pandas'"
     ]
    }
   ],
   "source": [
    "import pandas as pd, os\n",
    "\n",
    "db_path = \"data.csv\"\n",
    "\n",
    "if not os.path.exists(db_path):\n",
    "    raise FileNotFoundError(f\"La base de datos no se encuentra en {db_path}\")\n",
    "\n",
    "df = pd.read_csv(db_path)\n",
    "\n",
    "result = df.groupby(\"country\").size().to_dict()\n",
    "\n",
    "print(result)"
   ]
  },
  {
   "cell_type": "markdown",
   "metadata": {},
   "source": [
    "### Ejercicio N°2\n",
    "\n",
    "Tomando el ecuador como deivision vertical y el meridiano de Greenwich como devision horizontal, se quiere saber cuantas localidades pertenecen a cada cuadrante\n",
    "\n",
    "> El resultado debe ser devuelvo en un diccionario donde la clave sea el nombre del cuadrante y su valor una lista con los nombres de las ciudades que corresponden al mismo"
   ]
  },
  {
   "cell_type": "code",
   "execution_count": null,
   "metadata": {},
   "outputs": [],
   "source": []
  },
  {
   "cell_type": "markdown",
   "metadata": {},
   "source": [
    "### Ejercicio N°3\n",
    "\n",
    "Se pide obtener la cantidad y los nombres de las localidades que pertenecen a un pais ingresado por el usuario\n",
    "\n",
    "> Se debera devolver en una funcion que tenga por parametro el \"nombre_pais\" y si devuelva una tupla donde su primer valor sea la cantidad de localidades y su segundo valor sea una lista ordenada ascendente de los nombres de la ciudades."
   ]
  },
  {
   "cell_type": "code",
   "execution_count": null,
   "metadata": {},
   "outputs": [],
   "source": []
  },
  {
   "cell_type": "markdown",
   "metadata": {},
   "source": [
    "#### Ejercicio N°4\n",
    "\n",
    "Retornar los datos de origen ordenados por pais y localidad, en orden alfabetico descente."
   ]
  }
 ],
 "metadata": {
  "kernelspec": {
   "display_name": "Python 3",
   "language": "python",
   "name": "python3"
  },
  "language_info": {
   "codemirror_mode": {
    "name": "ipython",
    "version": 3
   },
   "file_extension": ".py",
   "mimetype": "text/x-python",
   "name": "python",
   "nbconvert_exporter": "python",
   "pygments_lexer": "ipython3",
   "version": "3.12.2"
  }
 },
 "nbformat": 4,
 "nbformat_minor": 2
}
